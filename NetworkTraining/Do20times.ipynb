{
 "cells": [
  {
   "cell_type": "code",
   "execution_count": null,
   "id": "e4fe5612",
   "metadata": {},
   "outputs": [
    {
     "name": "stdout",
     "output_type": "stream",
     "text": [
      "Training 1 Start\n",
      "\n",
      "WARNING:tensorflow:Callback method `on_train_batch_end` is slow compared to the batch time (batch time: 0.0430s vs `on_train_batch_end` time: 0.1083s). Check your callbacks.\n"
     ]
    }
   ],
   "source": [
    "import os\n",
    "%run TheOriginal.ipynb\n",
    "#configuration\n",
    "save_path = \"D://Dissertation//runs\"\n",
    "learnR = 0.0001 # 0.001 or 0.0008 or 0.0006 or 0.0005\n",
    "NetworkName = \"EMGNet\" # ResNet18 or VGG16 or ANN or ResNet50 or CNN \n",
    "inputShape = (37,5,9) #(10,10,16) or (40,40,1) or (20,20,4) or (37,5,9)\n",
    "dataType = \"New\" # Origin or Spiral or New\n",
    "Epochs=250\n",
    "times =10\n",
    "Ratio=\"R4peopleDataset\"  #R4 or R1CA\n",
    "Pnumber=15\n",
    "DsetName=str(Pnumber) + Ratio\n",
    "dirName = DsetName + NetworkName + dataType + \"_lr\" + str(learnR) + \"_inputT1\" + str(inputShape)\n",
    "# + \"_DropOut0.2\"\n",
    "path = save_path+'//'+dirName\n",
    "if not os.path.exists(path): \n",
    "    os.mkdir(path) \n",
    "else:\n",
    "    txt_name=\"trainingResult.txt\"\n",
    "    txt_path = path+\"//\"+txt_name\n",
    "    txt_file = open(txt_path, \"w\", encoding=\"utf-8\")\n",
    "    toWrite = []\n",
    "    Acc = []\n",
    "    first = \"This is the training result of \" + dirName + \"\\n\"\n",
    "    toWrite.append(first)\n",
    "    for i in range(0,times):\n",
    "        num = i+1\n",
    "        imgpath = path+'//'+str(num)+'.jpg'\n",
    "        text,acc=doOrigin(num,imgpath,learnR,dataType,NetworkName,inputShape,Epochs,DsetName)\n",
    "        toWrite.append(text)\n",
    "        Acc.append(acc)\n",
    "    Accsum = 0\n",
    "    for i in Acc:\n",
    "        Accsum = Accsum + i\n",
    "    average = Accsum/times\n",
    "    average = round(average,4)\n",
    "    last = \"Average acc = \" + str(average)\n",
    "    toWrite.append(last)\n",
    "    txt_file.writelines(toWrite)\n",
    "    txt_file.close()"
   ]
  },
  {
   "cell_type": "code",
   "execution_count": null,
   "id": "b3663146",
   "metadata": {},
   "outputs": [],
   "source": []
  },
  {
   "cell_type": "code",
   "execution_count": null,
   "id": "b31c93e1",
   "metadata": {},
   "outputs": [],
   "source": []
  }
 ],
 "metadata": {
  "kernelspec": {
   "display_name": "Python 3 (ipykernel)",
   "language": "python",
   "name": "python3"
  },
  "language_info": {
   "codemirror_mode": {
    "name": "ipython",
    "version": 3
   },
   "file_extension": ".py",
   "mimetype": "text/x-python",
   "name": "python",
   "nbconvert_exporter": "python",
   "pygments_lexer": "ipython3",
   "version": "3.8.16"
  }
 },
 "nbformat": 4,
 "nbformat_minor": 5
}
